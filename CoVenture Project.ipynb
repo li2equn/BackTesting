{
 "cells": [
  {
   "cell_type": "markdown",
   "metadata": {},
   "source": [
    "Initial Capital = 100,000"
   ]
  },
  {
   "cell_type": "markdown",
   "metadata": {},
   "source": [
    "## Part 1"
   ]
  },
  {
   "cell_type": "code",
   "execution_count": 1,
   "metadata": {},
   "outputs": [],
   "source": [
    "def apply_func_decorator(func):\n",
    "    prev_row = {}\n",
    "    def wrapper(curr_row, **kwargs):\n",
    "        val = func(curr_row, prev_row)\n",
    "        prev_row.update(curr_row)\n",
    "        #prev_row[new_col] = val\n",
    "        return val\n",
    "    return wrapper"
   ]
  },
  {
   "cell_type": "code",
   "execution_count": 2,
   "metadata": {},
   "outputs": [],
   "source": [
    "@apply_func_decorator\n",
    "def DailyRecord1(row,prev_row):\n",
    "    if row['ma_5d'] > row['ma_20d']:\n",
    "        row['long/short'] = 1\n",
    "        row['Transaction_type'] = 'buy'\n",
    "    elif row['ma_5d']< row['ma_20d']:\n",
    "        row['long/short'] = -1\n",
    "        row['Transaction_type'] = 'sell'\n",
    "    else:\n",
    "        pass\n",
    "    try:\n",
    "        position_pre = prev_row['Position']\n",
    "        quantity_pre = prev_row['Quantity']\n",
    "        long_short_pre = prev_row['long/short']\n",
    "        cash_pre = prev_row['Cash']\n",
    "    except:\n",
    "        position_pre = float('NaN')\n",
    "        quantity_pre = 0\n",
    "        long_short_pre = 0\n",
    "        cash_pre = 0\n",
    "        \n",
    "    if math.isnan(position_pre):\n",
    "        position_pre = 100000\n",
    "        \n",
    "    if long_short_pre != row['long/short']:\n",
    "        row['Quantity'] = int(position_pre/row['Price'])\n",
    "        row['Holding'] = row['long/short']*row['Quantity']*row['Price']\n",
    "        row['Cash'] = position_pre - row['Holding']\n",
    "    else:\n",
    "        row['Quantity'] = quantity_pre\n",
    "        row['Cash'] = cash_pre\n",
    "        row['Holding'] = row['long/short']*row['Quantity']*row['Price']\n",
    "    row['Position'] = row['Cash']+row['Holding']\n",
    "    if math.isnan(row['Position']):\n",
    "        row['Quantity'] = 0\n",
    "    if math.isnan(long_short_pre):\n",
    "        long_short_pre=0\n",
    "    row['Transaction_size'] = row['Quantity']*row['long/short']-quantity_pre*long_short_pre\n",
    "    row['Transaction_value'] = row['Transaction_size']*row['Price']\n",
    "    \n",
    "    return row"
   ]
  },
  {
   "cell_type": "markdown",
   "metadata": {},
   "source": [
    "#### download  daily historical data on AAPL from Jan 1, 2002-Jan 1, 2010."
   ]
  },
  {
   "cell_type": "code",
   "execution_count": 3,
   "metadata": {},
   "outputs": [],
   "source": [
    "import matplotlib.pyplot as plt\n",
    "import datetime\n",
    "from collections import deque\n",
    "import pandas as pd\n",
    "import numpy as np\n",
    "import math"
   ]
  },
  {
   "cell_type": "code",
   "execution_count": 4,
   "metadata": {},
   "outputs": [
    {
     "data": {
      "text/html": [
       "<div>\n",
       "<style scoped>\n",
       "    .dataframe tbody tr th:only-of-type {\n",
       "        vertical-align: middle;\n",
       "    }\n",
       "\n",
       "    .dataframe tbody tr th {\n",
       "        vertical-align: top;\n",
       "    }\n",
       "\n",
       "    .dataframe thead th {\n",
       "        text-align: right;\n",
       "    }\n",
       "</style>\n",
       "<table border=\"1\" class=\"dataframe\">\n",
       "  <thead>\n",
       "    <tr style=\"text-align: right;\">\n",
       "      <th></th>\n",
       "      <th>Open</th>\n",
       "      <th>High</th>\n",
       "      <th>Low</th>\n",
       "      <th>Close</th>\n",
       "      <th>Adj Close</th>\n",
       "      <th>Volume</th>\n",
       "    </tr>\n",
       "    <tr>\n",
       "      <th>Date</th>\n",
       "      <th></th>\n",
       "      <th></th>\n",
       "      <th></th>\n",
       "      <th></th>\n",
       "      <th></th>\n",
       "      <th></th>\n",
       "    </tr>\n",
       "  </thead>\n",
       "  <tbody>\n",
       "    <tr>\n",
       "      <th>2002-01-02</th>\n",
       "      <td>1.575000</td>\n",
       "      <td>1.664286</td>\n",
       "      <td>1.568571</td>\n",
       "      <td>1.664286</td>\n",
       "      <td>1.122321</td>\n",
       "      <td>132374200</td>\n",
       "    </tr>\n",
       "    <tr>\n",
       "      <th>2002-01-03</th>\n",
       "      <td>1.642857</td>\n",
       "      <td>1.696429</td>\n",
       "      <td>1.626429</td>\n",
       "      <td>1.684286</td>\n",
       "      <td>1.135809</td>\n",
       "      <td>153001800</td>\n",
       "    </tr>\n",
       "    <tr>\n",
       "      <th>2002-01-04</th>\n",
       "      <td>1.667143</td>\n",
       "      <td>1.710714</td>\n",
       "      <td>1.642143</td>\n",
       "      <td>1.692143</td>\n",
       "      <td>1.141107</td>\n",
       "      <td>102494000</td>\n",
       "    </tr>\n",
       "    <tr>\n",
       "      <th>2002-01-07</th>\n",
       "      <td>1.694286</td>\n",
       "      <td>1.714286</td>\n",
       "      <td>1.625000</td>\n",
       "      <td>1.635714</td>\n",
       "      <td>1.103054</td>\n",
       "      <td>111146000</td>\n",
       "    </tr>\n",
       "    <tr>\n",
       "      <th>2002-01-08</th>\n",
       "      <td>1.625000</td>\n",
       "      <td>1.646429</td>\n",
       "      <td>1.604286</td>\n",
       "      <td>1.615000</td>\n",
       "      <td>1.089085</td>\n",
       "      <td>112509600</td>\n",
       "    </tr>\n",
       "  </tbody>\n",
       "</table>\n",
       "</div>"
      ],
      "text/plain": [
       "                Open      High       Low     Close  Adj Close     Volume\n",
       "Date                                                                    \n",
       "2002-01-02  1.575000  1.664286  1.568571  1.664286   1.122321  132374200\n",
       "2002-01-03  1.642857  1.696429  1.626429  1.684286   1.135809  153001800\n",
       "2002-01-04  1.667143  1.710714  1.642143  1.692143   1.141107  102494000\n",
       "2002-01-07  1.694286  1.714286  1.625000  1.635714   1.103054  111146000\n",
       "2002-01-08  1.625000  1.646429  1.604286  1.615000   1.089085  112509600"
      ]
     },
     "execution_count": 4,
     "metadata": {},
     "output_type": "execute_result"
    }
   ],
   "source": [
    "AAPL = pd.read_csv('AAPL.csv',parse_dates=['Date'],index_col=0)\n",
    "AAPL.head()"
   ]
  },
  {
   "cell_type": "markdown",
   "metadata": {},
   "source": [
    "## Moving Average Strategy"
   ]
  },
  {
   "cell_type": "code",
   "execution_count": 5,
   "metadata": {},
   "outputs": [
    {
     "name": "stderr",
     "output_type": "stream",
     "text": [
      "C:\\Users\\eliza\\Anaconda3\\lib\\site-packages\\ipykernel_launcher.py:13: FutureWarning: pd.rolling_mean is deprecated for Series and will be removed in a future version, replace with \n",
      "\tSeries.rolling(window=5,center=False).mean()\n",
      "  del sys.path[0]\n",
      "C:\\Users\\eliza\\Anaconda3\\lib\\site-packages\\ipykernel_launcher.py:14: FutureWarning: pd.rolling_mean is deprecated for Series and will be removed in a future version, replace with \n",
      "\tSeries.rolling(window=20,center=False).mean()\n",
      "  \n"
     ]
    },
    {
     "data": {
      "image/png": "[encoded data removed]",
      "text/plain": [
       "<matplotlib.figure.Figure at 0x2d2bc11c208>"
      ]
     },
     "metadata": {},
     "output_type": "display_data"
    }
   ],
   "source": [
    "Strategy1=pd.DataFrame(columns = ['Price',\n",
    "                                  'ma_5d',\n",
    "                                  'ma_20d',\n",
    "                                  'long/short',\n",
    "                                  'Quantity',\n",
    "                                  'Position',\n",
    "                                  'Cash','Holding',\n",
    "                                  'Transaction_type',\n",
    "                                  'Transaction_size',\n",
    "                                  'Transaction_value',\n",
    "                                 ])\n",
    "Strategy1['Price'] = AAPL['Adj Close']\n",
    "Strategy1['ma_5d'] = pd.rolling_mean(AAPL['Adj Close'],window=5)\n",
    "Strategy1['ma_20d'] = pd.rolling_mean(AAPL['Adj Close'],window=20)\n",
    "#Strategy1[['Price','ma_5d','ma_20d']].plot()\n",
    "Strat1 = Strategy1.apply(DailyRecord1, axis=1)\n",
    "Strat1['Position'].plot()\n",
    "plt.savefig(\"./\"+'Strategy1')"
   ]
  },
  {
   "cell_type": "code",
   "execution_count": 6,
   "metadata": {},
   "outputs": [
    {
     "data": {
      "image/png": "[encoded data removed]",
      "text/plain": [
       "<matplotlib.figure.Figure at 0x2d2bc39b390>"
      ]
     },
     "metadata": {},
     "output_type": "display_data"
    }
   ],
   "source": [
    "Strat1[['Price','ma_5d','ma_20d']].plot()\n",
    "plt.savefig(\"./\"+'MovingAverage')"
   ]
  },
  {
   "cell_type": "code",
   "execution_count": 7,
   "metadata": {},
   "outputs": [
    {
     "data": {
      "text/html": [
       "<div>\n",
       "<style scoped>\n",
       "    .dataframe tbody tr th:only-of-type {\n",
       "        vertical-align: middle;\n",
       "    }\n",
       "\n",
       "    .dataframe tbody tr th {\n",
       "        vertical-align: top;\n",
       "    }\n",
       "\n",
       "    .dataframe thead th {\n",
       "        text-align: right;\n",
       "    }\n",
       "</style>\n",
       "<table border=\"1\" class=\"dataframe\">\n",
       "  <thead>\n",
       "    <tr style=\"text-align: right;\">\n",
       "      <th></th>\n",
       "      <th>Transaction_type</th>\n",
       "      <th>Price</th>\n",
       "      <th>Transaction_size</th>\n",
       "      <th>Transaction_value</th>\n",
       "      <th>Position</th>\n",
       "      <th>Gain/Loss</th>\n",
       "    </tr>\n",
       "    <tr>\n",
       "      <th>Date</th>\n",
       "      <th></th>\n",
       "      <th></th>\n",
       "      <th></th>\n",
       "      <th></th>\n",
       "      <th></th>\n",
       "      <th></th>\n",
       "    </tr>\n",
       "  </thead>\n",
       "  <tbody>\n",
       "    <tr>\n",
       "      <th>2002-01-30</th>\n",
       "      <td>buy</td>\n",
       "      <td>1.160374</td>\n",
       "      <td>86179.0</td>\n",
       "      <td>99999.870946</td>\n",
       "      <td>100000.000000</td>\n",
       "      <td>NaN</td>\n",
       "    </tr>\n",
       "    <tr>\n",
       "      <th>2002-02-20</th>\n",
       "      <td>sell</td>\n",
       "      <td>1.114133</td>\n",
       "      <td>-170457.0</td>\n",
       "      <td>-189911.768781</td>\n",
       "      <td>93897.923547</td>\n",
       "      <td>-6102.076453</td>\n",
       "    </tr>\n",
       "    <tr>\n",
       "      <th>2002-03-07</th>\n",
       "      <td>buy</td>\n",
       "      <td>1.174343</td>\n",
       "      <td>160986.0</td>\n",
       "      <td>189052.782198</td>\n",
       "      <td>90081.984263</td>\n",
       "      <td>-3815.939284</td>\n",
       "    </tr>\n",
       "    <tr>\n",
       "      <th>2002-03-26</th>\n",
       "      <td>sell</td>\n",
       "      <td>1.130028</td>\n",
       "      <td>-153056.0</td>\n",
       "      <td>-172957.565568</td>\n",
       "      <td>86276.270259</td>\n",
       "      <td>-3805.714004</td>\n",
       "    </tr>\n",
       "    <tr>\n",
       "      <th>2002-04-05</th>\n",
       "      <td>buy</td>\n",
       "      <td>1.191684</td>\n",
       "      <td>144302.0</td>\n",
       "      <td>171962.384568</td>\n",
       "      <td>80980.543935</td>\n",
       "      <td>-5295.726324</td>\n",
       "    </tr>\n",
       "  </tbody>\n",
       "</table>\n",
       "</div>"
      ],
      "text/plain": [
       "           Transaction_type     Price  Transaction_size  Transaction_value  \\\n",
       "Date                                                                         \n",
       "2002-01-30              buy  1.160374           86179.0       99999.870946   \n",
       "2002-02-20             sell  1.114133         -170457.0     -189911.768781   \n",
       "2002-03-07              buy  1.174343          160986.0      189052.782198   \n",
       "2002-03-26             sell  1.130028         -153056.0     -172957.565568   \n",
       "2002-04-05              buy  1.191684          144302.0      171962.384568   \n",
       "\n",
       "                 Position    Gain/Loss  \n",
       "Date                                    \n",
       "2002-01-30  100000.000000          NaN  \n",
       "2002-02-20   93897.923547 -6102.076453  \n",
       "2002-03-07   90081.984263 -3815.939284  \n",
       "2002-03-26   86276.270259 -3805.714004  \n",
       "2002-04-05   80980.543935 -5295.726324  "
      ]
     },
     "execution_count": 7,
     "metadata": {},
     "output_type": "execute_result"
    }
   ],
   "source": [
    "Trade1 = Strat1[Strat1['Transaction_size']!=0][['Transaction_type','Price','Transaction_size','Transaction_value','Position']].dropna(axis=0)\n",
    "Trade1['Gain/Loss'] =  Trade1['Position']-Trade1.shift(1)['Position']\n",
    "Trade1.to_csv('Trade1.csv')\n",
    "Trade1.head()"
   ]
  },
  {
   "cell_type": "code",
   "execution_count": 8,
   "metadata": {},
   "outputs": [
    {
     "data": {
      "text/plain": [
       "8.368130122980004"
      ]
     },
     "execution_count": 8,
     "metadata": {},
     "output_type": "execute_result"
    }
   ],
   "source": [
    "Trade1['Position'][-1]/Trade1['Position'][0]-1"
   ]
  },
  {
   "cell_type": "code",
   "execution_count": 9,
   "metadata": {},
   "outputs": [
    {
     "data": {
      "text/plain": [
       "45"
      ]
     },
     "execution_count": 9,
     "metadata": {},
     "output_type": "execute_result"
    }
   ],
   "source": [
    "Trade1[Trade1['Gain/Loss']>0]['Gain/Loss'].count()"
   ]
  },
  {
   "cell_type": "code",
   "execution_count": 10,
   "metadata": {},
   "outputs": [
    {
     "data": {
      "text/plain": [
       "125"
      ]
     },
     "execution_count": 10,
     "metadata": {},
     "output_type": "execute_result"
    }
   ],
   "source": [
    "len(Trade1)"
   ]
  },
  {
   "cell_type": "code",
   "execution_count": 11,
   "metadata": {},
   "outputs": [
    {
     "name": "stdout",
     "output_type": "stream",
     "text": [
      "0.569620253164557\n"
     ]
    }
   ],
   "source": [
    "hit_ratio= Trade1[Trade1['Gain/Loss']>0]['Gain/Loss'].count()/(len(Trade1)-Trade1[Trade1['Gain/Loss']>0]['Gain/Loss'].count()-1)\n",
    "print(hit_ratio)"
   ]
  },
  {
   "cell_type": "markdown",
   "metadata": {},
   "source": [
    "## Strategy2"
   ]
  },
  {
   "cell_type": "code",
   "execution_count": 12,
   "metadata": {},
   "outputs": [],
   "source": [
    "AAPL['daily_return'] = AAPL['Adj Close'].pct_change().iloc[1:]"
   ]
  },
  {
   "cell_type": "code",
   "execution_count": 13,
   "metadata": {},
   "outputs": [],
   "source": [
    "@apply_func_decorator\n",
    "def DailyRecord2(row,prev_row):\n",
    "\n",
    "    try:\n",
    "        position_pre = prev_row['Position']\n",
    "        quantity_pre = prev_row['Quantity']\n",
    "        long_short_pre = prev_row['long/short']\n",
    "        cash_pre = prev_row['Cash']\n",
    "        price_pre = prev_row['Price']\n",
    "    except:\n",
    "        position_pre = float('NaN')\n",
    "        quantity_pre = 0\n",
    "        long_short_pre = 0\n",
    "        cash_pre = 0\n",
    "        price_pre = 0\n",
    "        \n",
    "    if math.isnan(position_pre):\n",
    "        position_pre = 100000\n",
    "        cash_pre = 100000\n",
    "    \n",
    "    if math.isnan(row['long']):\n",
    "        row['long'] = 0\n",
    "    if math.isnan(row['short']):\n",
    "        row['short'] = 0\n",
    "    row['long/short'] = long_short_pre + row['long'] + row['short']\n",
    "    row['Quantity'] = int(row['long/short']*position_pre/row['Price'])\n",
    "    row['Transaction_size'] = row['Quantity']-quantity_pre\n",
    "    row['Transaction_value'] = row['Transaction_size']*row['Price']\n",
    "    row['Holding'] = row['Quantity']*row['Price']\n",
    "    row['Cash'] = cash_pre - row['Transaction_value']\n",
    "    row['Position'] = row['Cash']+row['Holding']\n",
    "\n",
    "\n",
    "\n",
    "    if row['Transaction_size'] > 0 :\n",
    "        row['Transaction_type'] = 'buy'\n",
    "    elif row['Transaction_size'] < 0:\n",
    "        row['Transaction_type'] = 'sell'\n",
    "    \n",
    "    return row"
   ]
  },
  {
   "cell_type": "code",
   "execution_count": 14,
   "metadata": {},
   "outputs": [
    {
     "name": "stdout",
     "output_type": "stream",
     "text": [
      "last 13 days\n",
      "last 13 days\n",
      "last 13 days\n",
      "last 13 days\n",
      "last 13 days\n",
      "last 13 days\n",
      "last 13 days\n",
      "last 13 days\n",
      "last 13 days\n",
      "last 13 days\n",
      "last 13 days\n",
      "last 13 days\n",
      "last 13 days\n"
     ]
    }
   ],
   "source": [
    "TradingDate = AAPL.index\n",
    "long = {}\n",
    "short = {}\n",
    "for i in range(len(TradingDate)):\n",
    "    this_trading_day = TradingDate[i]\n",
    "    if this_trading_day not in long.keys():\n",
    "        long[this_trading_day] = 0\n",
    "    if this_trading_day not in short.keys():\n",
    "        short[this_trading_day] = 0\n",
    "    try: \n",
    "        next_trading_day = TradingDate[i+1]\n",
    "        third_trading_day = TradingDate[i+2]\n",
    "        long_date = TradingDate[i+3]\n",
    "        short_1 = TradingDate[i+4]\n",
    "        short_5 = TradingDate[i+8]\n",
    "        short_10 = TradingDate[i+13]\n",
    "        \n",
    "        if AAPL.loc[this_trading_day]['daily_return'] < 0 and AAPL.loc[next_trading_day]['daily_return'] < 0 and AAPL.loc[third_trading_day]['daily_return'] < 0:\n",
    "            long[long_date] =1\n",
    "            if short_1 not in short.keys():\n",
    "                short[short_1] = -1/3\n",
    "            else:\n",
    "                short[short_1] = short[short_1]-1/3\n",
    "            if short_5 not in short.keys():\n",
    "                short[short_5] = -1/3\n",
    "            else:\n",
    "                short[short_5] = short[short_5]-1/3\n",
    "            short[short_10] = -1/3\n",
    "    except:\n",
    "        print('last 13 days')\n"
   ]
  },
  {
   "cell_type": "code",
   "execution_count": 15,
   "metadata": {},
   "outputs": [
    {
     "data": {
      "image/png": "[encoded data removed]",
      "text/plain": [
       "<matplotlib.figure.Figure at 0x2d2bc622cf8>"
      ]
     },
     "metadata": {},
     "output_type": "display_data"
    }
   ],
   "source": [
    "Strategy2=pd.DataFrame(columns = ['Price',\n",
    "                                  'long',\n",
    "                                  'short',\n",
    "                                  'long/short',\n",
    "                                  'Quantity',\n",
    "                                  'Position',\n",
    "                                  'Cash','Holding',\n",
    "                                  'Transaction_type',\n",
    "                                  'Transaction_size',\n",
    "                                  'Transaction_value',\n",
    "                                 ])\n",
    "Strategy2['Price'] = AAPL['Adj Close']\n",
    "Strategy2['long'] = Strategy2.index.map(lambda x:long[x])\n",
    "Strategy2['short'] = Strategy2.index.map(lambda x:short[x])\n",
    "Strat2 = Strategy2.apply(DailyRecord2, axis=1)\n",
    "Strat2['Position'].plot()\n",
    "plt.savefig(\"./\"+'Strategy2')"
   ]
  },
  {
   "cell_type": "code",
   "execution_count": 16,
   "metadata": {},
   "outputs": [
    {
     "data": {
      "text/html": [
       "<div>\n",
       "<style scoped>\n",
       "    .dataframe tbody tr th:only-of-type {\n",
       "        vertical-align: middle;\n",
       "    }\n",
       "\n",
       "    .dataframe tbody tr th {\n",
       "        vertical-align: top;\n",
       "    }\n",
       "\n",
       "    .dataframe thead th {\n",
       "        text-align: right;\n",
       "    }\n",
       "</style>\n",
       "<table border=\"1\" class=\"dataframe\">\n",
       "  <thead>\n",
       "    <tr style=\"text-align: right;\">\n",
       "      <th></th>\n",
       "      <th>Transaction_type</th>\n",
       "      <th>Price</th>\n",
       "      <th>Transaction_size</th>\n",
       "      <th>Transaction_value</th>\n",
       "      <th>Position</th>\n",
       "      <th>Gain/Loss</th>\n",
       "    </tr>\n",
       "    <tr>\n",
       "      <th>Date</th>\n",
       "      <th></th>\n",
       "      <th></th>\n",
       "      <th></th>\n",
       "      <th></th>\n",
       "      <th></th>\n",
       "      <th></th>\n",
       "    </tr>\n",
       "  </thead>\n",
       "  <tbody>\n",
       "    <tr>\n",
       "      <th>2002-01-10</th>\n",
       "      <td>buy</td>\n",
       "      <td>1.022613</td>\n",
       "      <td>97788</td>\n",
       "      <td>99999.280044</td>\n",
       "      <td>100000.000000</td>\n",
       "      <td>NaN</td>\n",
       "    </tr>\n",
       "    <tr>\n",
       "      <th>2002-01-11</th>\n",
       "      <td>buy</td>\n",
       "      <td>1.013943</td>\n",
       "      <td>66586</td>\n",
       "      <td>67514.408598</td>\n",
       "      <td>99152.178040</td>\n",
       "      <td>-847.821960</td>\n",
       "    </tr>\n",
       "    <tr>\n",
       "      <th>2002-01-14</th>\n",
       "      <td>buy</td>\n",
       "      <td>1.018759</td>\n",
       "      <td>62721</td>\n",
       "      <td>63897.583239</td>\n",
       "      <td>99943.803224</td>\n",
       "      <td>791.625184</td>\n",
       "    </tr>\n",
       "    <tr>\n",
       "      <th>2002-01-15</th>\n",
       "      <td>sell</td>\n",
       "      <td>1.045252</td>\n",
       "      <td>-35862</td>\n",
       "      <td>-37484.827224</td>\n",
       "      <td>105960.231059</td>\n",
       "      <td>6016.427835</td>\n",
       "    </tr>\n",
       "    <tr>\n",
       "      <th>2002-01-16</th>\n",
       "      <td>buy</td>\n",
       "      <td>1.000937</td>\n",
       "      <td>20489</td>\n",
       "      <td>20508.198193</td>\n",
       "      <td>97485.740664</td>\n",
       "      <td>-8474.490395</td>\n",
       "    </tr>\n",
       "  </tbody>\n",
       "</table>\n",
       "</div>"
      ],
      "text/plain": [
       "           Transaction_type     Price  Transaction_size  Transaction_value  \\\n",
       "Date                                                                         \n",
       "2002-01-10              buy  1.022613             97788       99999.280044   \n",
       "2002-01-11              buy  1.013943             66586       67514.408598   \n",
       "2002-01-14              buy  1.018759             62721       63897.583239   \n",
       "2002-01-15             sell  1.045252            -35862      -37484.827224   \n",
       "2002-01-16              buy  1.000937             20489       20508.198193   \n",
       "\n",
       "                 Position    Gain/Loss  \n",
       "Date                                    \n",
       "2002-01-10  100000.000000          NaN  \n",
       "2002-01-11   99152.178040  -847.821960  \n",
       "2002-01-14   99943.803224   791.625184  \n",
       "2002-01-15  105960.231059  6016.427835  \n",
       "2002-01-16   97485.740664 -8474.490395  "
      ]
     },
     "execution_count": 16,
     "metadata": {},
     "output_type": "execute_result"
    }
   ],
   "source": [
    "Trade2 = Strat2[['Transaction_type','Price','Transaction_size','Transaction_value','Position']].dropna(axis=0)\n",
    "Trade2['Gain/Loss'] =  Trade2['Position']-Trade2.shift(1)['Position']\n",
    "Trade2.to_csv('Trade2.csv')\n",
    "Trade2.head()"
   ]
  },
  {
   "cell_type": "code",
   "execution_count": 17,
   "metadata": {},
   "outputs": [
    {
     "name": "stdout",
     "output_type": "stream",
     "text": [
      "The cumulative return of Strategy2 is 2.2178721846800036\n",
      "There are 1105 trades, and 537 of them made money\n",
      "The hit ratio is 0.9470899470899471\n"
     ]
    }
   ],
   "source": [
    "cumulative_return2 = Trade2['Position'][-1]/Trade2['Position'][0]-1\n",
    "gain_trade2 = Trade2[Trade2['Gain/Loss']>0]['Gain/Loss'].count()\n",
    "trade_number2 = len(Trade2)\n",
    "hit_ratio2= Trade2[Trade2['Gain/Loss']>0]['Gain/Loss'].count()/(len(Trade2)-Trade2[Trade2['Gain/Loss']>0]['Gain/Loss'].count()-1)\n",
    "print('The cumulative return of Strategy2 is '+ str(cumulative_return2))\n",
    "print('There are '+ str(trade_number2)+' trades, and '+str(gain_trade2) +' of them made money')\n",
    "print('The hit ratio is '+ str(hit_ratio2))"
   ]
  },
  {
   "cell_type": "code",
   "execution_count": 31,
   "metadata": {},
   "outputs": [
    {
     "data": {
      "text/plain": [
       "321787.21846800036"
      ]
     },
     "execution_count": 31,
     "metadata": {},
     "output_type": "execute_result"
    }
   ],
   "source": [
    "Trade2['Position'][-1]"
   ]
  },
  {
   "cell_type": "markdown",
   "metadata": {},
   "source": [
    "### What 3 metrics would you analyse to determine whether the strategy was good or bad (not including the overall PNL of the strategy)?"
   ]
  },
  {
   "cell_type": "code",
   "execution_count": 18,
   "metadata": {},
   "outputs": [],
   "source": [
    "daily_return1 = Strat1['Position'].pct_change().iloc[1:].dropna()\n",
    "daily_return2 = Strat2['Position'].pct_change().iloc[1:].dropna()"
   ]
  },
  {
   "cell_type": "code",
   "execution_count": 19,
   "metadata": {},
   "outputs": [
    {
     "data": {
      "image/png": "[encoded data removed]",
      "text/plain": [
       "<matplotlib.figure.Figure at 0x2d2bc3c0748>"
      ]
     },
     "metadata": {},
     "output_type": "display_data"
    }
   ],
   "source": [
    "#%matplotlib notebook\n",
    "plt.hist(daily_return1[daily_return1!=0], bins=100)\n",
    "plt.show()"
   ]
  },
  {
   "cell_type": "code",
   "execution_count": 20,
   "metadata": {},
   "outputs": [
    {
     "data": {
      "image/png": "[encoded data removed]",
      "text/plain": [
       "<matplotlib.figure.Figure at 0x2d2bc3c02e8>"
      ]
     },
     "metadata": {},
     "output_type": "display_data"
    }
   ],
   "source": [
    "#%matplotlib notebook\n",
    "plt.hist(daily_return2[daily_return2!=0], bins=100)\n",
    "plt.show()"
   ]
  },
  {
   "cell_type": "markdown",
   "metadata": {},
   "source": [
    "#### Volatility"
   ]
  },
  {
   "cell_type": "code",
   "execution_count": 21,
   "metadata": {},
   "outputs": [
    {
     "name": "stdout",
     "output_type": "stream",
     "text": [
      "The annualized volatility for strategy 1 is 0.37643549298729545\n",
      "The annualized volatility for strategy 2 is 0.45138959416791735\n"
     ]
    }
   ],
   "source": [
    "print('The annualized volatility for strategy 1 is '+ str(np.std(daily_return1)*np.sqrt(252)))\n",
    "print('The annualized volatility for strategy 2 is '+ str(np.std(daily_return2)*np.sqrt(252)))"
   ]
  },
  {
   "cell_type": "markdown",
   "metadata": {},
   "source": [
    "#### Sharpe Ratio\n",
    "Risk-adjusted return"
   ]
  },
  {
   "cell_type": "code",
   "execution_count": 22,
   "metadata": {},
   "outputs": [],
   "source": [
    "SharpeRatio1 = np.sqrt(252)*np.mean(daily_return1)/np.std(daily_return1)\n",
    "SharpeRatio2 = np.sqrt(252)*np.mean(daily_return2)/np.std(daily_return2)"
   ]
  },
  {
   "cell_type": "code",
   "execution_count": 23,
   "metadata": {},
   "outputs": [
    {
     "name": "stdout",
     "output_type": "stream",
     "text": [
      "The Sharpe Ratio for strategy 1 is 0.9531936326753064\n",
      "The Sharpe Ratio for strategy 1 is 0.5470727236961735\n"
     ]
    }
   ],
   "source": [
    "print('The Sharpe Ratio for strategy 1 is '+ str(SharpeRatio1))\n",
    "print('The Sharpe Ratio for strategy 1 is '+ str(SharpeRatio2))"
   ]
  },
  {
   "cell_type": "markdown",
   "metadata": {},
   "source": [
    "#### Max Drawdown\n",
    "A drawdown is the 'peak to trough decline' of an investment strategy. "
   ]
  },
  {
   "cell_type": "code",
   "execution_count": 24,
   "metadata": {},
   "outputs": [],
   "source": [
    "def max_drawdown(returns, rolling=None):\n",
    "    r = pd.DataFrame(returns).add(1).cumprod()\n",
    "\n",
    "    x = r.dot(1 / r.T.copy()) - 1\n",
    "    x.columns.name, x.index.name = 'start', 'end'\n",
    "\n",
    "    y = x.stack().reset_index()\n",
    "    y = y[y.start < y.end]\n",
    "\n",
    "    \n",
    "    if not rolling is None:\n",
    "        y = y[y.end - y.start <= rolling]\n",
    "    z = y.set_index(['start', 'end']).iloc[:, 0]\n",
    "    return z.min(), z.idxmin()"
   ]
  },
  {
   "cell_type": "code",
   "execution_count": 25,
   "metadata": {},
   "outputs": [],
   "source": [
    "max_drawdown1,(start1,end1) = max_drawdown(daily_return1)\n",
    "max_drawdown2,(start2,end2) = max_drawdown(daily_return2)"
   ]
  },
  {
   "cell_type": "code",
   "execution_count": 26,
   "metadata": {},
   "outputs": [
    {
     "name": "stdout",
     "output_type": "stream",
     "text": [
      "the max drawdown for strategy 1 over the trading period is -0.37133276383885694 from 2005-02-16 00:00:00 to 2005-07-05 00:00:00\n",
      "the max drawdown for strategy 2 over the trading period is -0.662907663627478 from 2007-12-28 00:00:00 to 2008-11-20 00:00:00\n"
     ]
    }
   ],
   "source": [
    "print('the max drawdown for strategy 1 over the trading period is ' + str(max_drawdown1)+' from ' +str(start1)+' to '+str(end1))\n",
    "print('the max drawdown for strategy 2 over the trading period is ' + str(max_drawdown2)+' from ' +str(start2)+' to '+str(end2))"
   ]
  },
  {
   "cell_type": "markdown",
   "metadata": {},
   "source": [
    "### Allocation"
   ]
  },
  {
   "cell_type": "code",
   "execution_count": 27,
   "metadata": {},
   "outputs": [],
   "source": [
    "import operator\n",
    "import cvxopt as opt\n",
    "from cvxopt import solvers\n",
    " \n",
    "def calculate_frontier(returns):\n",
    "    '''\n",
    "    returns optimal portfolio weights and corresponding sigmas for a desired optimal portfolio return\n",
    "    Params:\n",
    "    - returns: T x N matrix of observed data\n",
    "    '''\n",
    "    returns = pd.DataFrame(returns)\n",
    "    cov = np.matrix(np.cov(returns.T))\n",
    "    N = returns.shape[1]\n",
    "    pbar = np.matrix(returns.mean())\n",
    "    #print(pbar)\n",
    "    \n",
    "    # define list of optimal / desired mus for which we'd like to find the optimal sigmas\n",
    "    optimal_mus = []\n",
    "    r_min = pbar.mean()    # minimum expected return\n",
    "    r_max = np.max(np.max(pbar))\n",
    "    for i in range(100):\n",
    "        optimal_mus.append(r_min)\n",
    "        r_min +=((r_max-r_min) / 100)\n",
    "#     for i in range(25):\n",
    "#         optimal_mus.append(r_min)\n",
    "#         r_min += (pbar.mean() / 100)\n",
    "#         print(r_min)\n",
    "    \n",
    "    # constraint matrices for quadratic programming\n",
    "    P = opt.matrix(cov)\n",
    "    q = opt.matrix(np.zeros((N, 1)))\n",
    "    G = opt.matrix(np.concatenate((-np.array(pbar), -np.identity(N)), 0))\n",
    "    A = opt.matrix(1.0, (1,N))\n",
    "    b = opt.matrix(1.0)\n",
    "    \n",
    "    # hide optimization\n",
    "    opt.solvers.options['show_progress'] = False\n",
    "    \n",
    "    # calculate portfolio weights, every weight vector is of size Nx1\n",
    "    # find optimal weights with qp(P, q, G, h, A, b)\n",
    "    optimal_weights = [solvers.qp(P, q, G, opt.matrix(np.concatenate((-np.ones((1, 1)) * mu, np.zeros((N, 1))), 0)), A, b)['x'] for mu in optimal_mus]\n",
    "    \n",
    "    # find optimal sigma\n",
    "    # \\sigma = w^T * Cov * w\n",
    "    optimal_sigmas = [np.sqrt(np.matrix(w).T * cov.T.dot(np.matrix(w)))[0,0] for w in optimal_weights]\n",
    "    \n",
    "    return optimal_weights, optimal_mus, optimal_sigmas"
   ]
  },
  {
   "cell_type": "code",
   "execution_count": 28,
   "metadata": {},
   "outputs": [],
   "source": [
    "returns = pd.DataFrame()\n",
    "returns['returns1'] = daily_return1\n",
    "returns['returns2'] = daily_return2"
   ]
  },
  {
   "cell_type": "code",
   "execution_count": 29,
   "metadata": {},
   "outputs": [],
   "source": [
    "optimal_weights, optimal_mus, optimal_sigmas = calculate_frontier(returns)\n",
    "optimal_sharpe = list(map(lambda x,y: x/y, optimal_mus, optimal_sigmas))\n",
    "index, value = max(enumerate(optimal_sharpe), key=operator.itemgetter(1))\n",
    "max_sharpe= value*np.sqrt(252)\n",
    "w1 = optimal_weights[index][0]\n",
    "w2 = optimal_weights[index][1]"
   ]
  },
  {
   "cell_type": "code",
   "execution_count": 30,
   "metadata": {},
   "outputs": [
    {
     "name": "stdout",
     "output_type": "stream",
     "text": [
      "We should allocate 0.6188295193312496 of the total capital into Strategy 1 and 0.3811704806687504 of the capital into Strategy 2 to maximize our Sharpe Ratio, the max sharpe ratio is 1.2780693062469208\n"
     ]
    }
   ],
   "source": [
    "print('We should allocate '+str(w1)+' of the total capital into Strategy 1 and '+str(w2)+' of the capital into Strategy 2 to maximize our Sharpe Ratio, the max sharpe ratio is '+ str(max_sharpe))"
   ]
  },
  {
   "cell_type": "markdown",
   "metadata": {},
   "source": [
    "## Improvement"
   ]
  },
  {
   "cell_type": "code",
   "execution_count": null,
   "metadata": {},
   "outputs": [],
   "source": []
  },
  {
   "cell_type": "code",
   "execution_count": null,
   "metadata": {},
   "outputs": [],
   "source": []
  },
  {
   "cell_type": "code",
   "execution_count": null,
   "metadata": {},
   "outputs": [],
   "source": []
  },
  {
   "cell_type": "code",
   "execution_count": null,
   "metadata": {},
   "outputs": [],
   "source": []
  }
 ],
 "metadata": {
  "kernelspec": {
   "display_name": "Python 3",
   "language": "python",
   "name": "python3"
  },
  "language_info": {
   "codemirror_mode": {
    "name": "ipython",
    "version": 3
   },
   "file_extension": ".py",
   "mimetype": "text/x-python",
   "name": "python",
   "nbconvert_exporter": "python",
   "pygments_lexer": "ipython3",
   "version": "3.6.4"
  }
 },
 "nbformat": 4,
 "nbformat_minor": 2
}
